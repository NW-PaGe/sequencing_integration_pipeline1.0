{
 "cells": [
  {
   "cell_type": "markdown",
   "metadata": {},
   "source": [
    "# Keep NA Roster Script\n",
    "\n",
    "Yunpeng Yu and Sarah Menz  \n",
    "March 6, 2024"
   ],
   "id": "d4d65351-cd13-40ca-a601-a31867a03665"
  },
  {
   "cell_type": "code",
   "execution_count": null,
   "metadata": {},
   "outputs": [],
   "source": [
    "knitr::opts_chunk$set(\n",
    "  eval = F,\n",
    "  echo = T,\n",
    "  message = F,\n",
    "  warning = F\n",
    ")"
   ],
   "id": "aae14826-cc3a-4d2c-8c36-a3de48e3c463"
  },
  {
   "cell_type": "markdown",
   "metadata": {},
   "source": [
    "The keep_na script uses the keep_na.csv. The csv file is a running file of records that could not be matched to a WDRS event during initial processing.\n",
    "\n",
    "The keep_na script has 3 main sections  \n",
    "The first section identifies any new records in the keep_na.csv. The new records are grouped by submitting lab and saved to the Communications_for_keep_na folder.  \n",
    "The second section attempts to match the records to WDRS events and roster data. If a record is matched to a WDRS event, it can be rostered. Records that cannot be matched stay in the keep_na.csv.  \n",
    "The third section identifies records that have been in the keep_na.csv for over 60 days. Records older than 60 days are removed from the keep_na.csv file and sent to the Delete folder.\n",
    "\n",
    "# Libraries and Paths"
   ],
   "id": "f4c829b0-44fe-4914-b5df-728cf1a1b32e"
  },
  {
   "cell_type": "code",
   "execution_count": null,
   "metadata": {},
   "outputs": [],
   "source": [
    "library(DBI)\n",
    "library(odbc)\n",
    "library(lubridate)\n",
    "library(tidyverse)\n",
    "library(readxl)\n",
    "library(here)\n",
    "library(fs)"
   ],
   "id": "9abbc21b-27bc-4f30-8280-b759feb677e8"
  },
  {
   "cell_type": "markdown",
   "metadata": {},
   "source": [
    "# New records for the communications folder\n",
    "\n",
    "## Previous keep_na\n",
    "\n",
    "Read in the most recently archived keep_na.csv"
   ],
   "id": "b7268396-c975-4f47-a4d0-b4dc97fe0c05"
  },
  {
   "cell_type": "code",
   "execution_count": null,
   "metadata": {},
   "outputs": [],
   "source": [
    "# read in r_creds.RDS\n",
    "r_creds <-readRDS(file.path(Sys.getenv(\"USERPROFILE\"), \"Projects/Sequencing/Data_Objects\", \"r_creds.RDS\"))\n",
    "\n",
    "# Get all filenames in the Archive\n",
    "path <- file.info(list.files(\"keep_na/Archive/\", full.names = T))\n",
    "\n",
    "# Identify the file with the most recent date\n",
    "most_recent_path <- rownames(path)[which.max(path$mtime)]\n",
    "most_recent_file <- list.files(most_recent_path, pattern = \"\\\\.csv$\")\n",
    "\n",
    "\n",
    "# Read in the most recently archived file\n",
    "yesterday_keep_na <- read_csv(paste0(most_recent_path, \"/\", most_recent_file),\n",
    "                        col_types = cols(.default = \"c\"),\n",
    "                        na = c(\"\", \"NA\", \"N/A\", \"None\", \"NONE\")\n",
    "                              )"
   ],
   "id": "b756cc19-6d04-400a-88f5-aa67ce06a6db"
  },
  {
   "cell_type": "markdown",
   "metadata": {},
   "source": [
    "## Copy keep_na file\n",
    "\n",
    "The keep_na file is updated each time lab submissions are processed. This code chunk saves a copy of the keep_na.csv. This is important for identifying new records in the keep_na.csv and can also be used in troubleshooting."
   ],
   "id": "ebc32997-7e8d-4203-b074-f3aa34a273fa"
  },
  {
   "cell_type": "code",
   "execution_count": null,
   "metadata": {},
   "outputs": [],
   "source": [
    "# Create new folder in archive with today's date\n",
    "newdir <- paste0(\"keep_na/Archive/keep_na_\", format(today(), \"%Y-%m-%d\"))\n",
    "dir.create(newdir)\n",
    "\n",
    "# Save a copy of the current keep_na.csv before running the rest of the script\n",
    "file.copy( \n",
    "  from = \"keep_na/keep_na.csv\" ,\n",
    "    to = file.path(paste0((newdir), \"/\", \"keep_na_\", format(now(), \"%Y-%m-%d-%H%M%S\"), \".csv\"))\n",
    "  )"
   ],
   "id": "dc29695a-e815-4ee8-86cd-fc3366d26cea"
  },
  {
   "cell_type": "markdown",
   "metadata": {},
   "source": [
    "## Current keep_na file\n",
    "\n",
    "Read in the current keep_na.csv file"
   ],
   "id": "5cd30051-2d01-43c3-bd86-8fa4345a99e8"
  },
  {
   "cell_type": "code",
   "execution_count": null,
   "metadata": {},
   "outputs": [],
   "source": [
    "keep_na<- read_csv(\"keep_na/keep_na.csv\",\n",
    "                  col_types = cols(.default = \"c\"),\n",
    "                  na = c(\"\", \"NA\", \"N/A\", \"None\", \"NONE\"))"
   ],
   "id": "4c1c4d48-22ef-471e-8be6-ba21918b6915"
  },
  {
   "cell_type": "markdown",
   "metadata": {},
   "source": [
    "## Identify new records\n",
    "\n",
    "Compare today’s keep_na.csv with the previous version to identify new records. Records are saved in the template submitters format, with no demographic values. The records are split by submitting lab and saved to the communications folder."
   ],
   "id": "3b6c0afa-cfaf-49b5-8f22-29c50e69c735"
  },
  {
   "cell_type": "code",
   "execution_count": null,
   "metadata": {},
   "outputs": [],
   "source": [
    "# find records that are in today's keep_na and not in yesterday's keep_na\n",
    "\n",
    "new_records <-  anti_join(keep_na, yesterday_keep_na, \n",
    "                          by = c(\"CASE_ID\", \"SEQUENCE_REASON\", \"SEQUENCE_LAB\", \"SEQUENCE_ACCESSION\", \n",
    "                                 \"SEQUENCE_CLINICAL_ACCESSION\"))\n",
    "\n",
    "\n",
    "# changing to template submitters format\n",
    "new_records <- new_records %>% distinct() %>% \n",
    "  # renaming columns \n",
    "  select( LAB_ACCESSION_ID = SEQUENCE_CLINICAL_ACCESSION, \n",
    "          GISAID_ID = SEQUENCE_ACCESSION, \n",
    "          SPECIMEN_COLLECTION_DATE = SEQUENCE_SPECIMEN_COLLECTION_DATE, \n",
    "          SUBMITTING_LAB = SEQUENCE_LAB, \n",
    "          SEQUENCE_REASON, \n",
    "          SEQUENCE_STATUS,\n",
    "          PANGO_LINEAGE = SEQUENCE_VARIANT_OPEN_TEXT) %>% \n",
    "  # if in keep_na, no demographics\n",
    "  add_column( FIRST_NAME = NA, \n",
    "              LAST_NAME = NA, \n",
    "              MIDDLE_NAME = NA, \n",
    "              DOB = NA, \n",
    "              ALTERNATIVE_ID = NA ) %>% \n",
    "  # reordering columns\n",
    "  relocate( LAB_ACCESSION_ID, \n",
    "            GISAID_ID, \n",
    "            SPECIMEN_COLLECTION_DATE, \n",
    "            SUBMITTING_LAB, \n",
    "            SEQUENCE_REASON, \n",
    "            SEQUENCE_STATUS, \n",
    "            PANGO_LINEAGE, \n",
    "            FIRST_NAME, \n",
    "            LAST_NAME, \n",
    "            MIDDLE_NAME, \n",
    "            DOB, \n",
    "            ALTERNATIVE_ID )\n",
    "\n",
    "# save records if there are any\n",
    "if(length(new_records > 0)){\n",
    "\n",
    "# split records by lab and save to folder\n",
    "split_new_records <- split(new_records, new_records$SUBMITTING_LAB)\n",
    "\n",
    "# folder to save in with today's date\n",
    "review_path <- dir_create(paste0(\"For_Review/Communications_for_keep_na/\"), today())\n",
    "\n",
    "# save records in for review folder, by sequence_lab\n",
    "lapply(names(split_new_records), function(x){\n",
    "  write_csv(split_new_records[[x]], \n",
    "            path = paste0(review_path, \"/\", names(split_new_records[x]), today(), \".csv\"))\n",
    "  })\n",
    "}"
   ],
   "id": "d13c9022-2cc2-4649-a9a9-b4dd6a3c3f8a"
  },
  {
   "cell_type": "markdown",
   "metadata": {},
   "source": [
    "## Send Email - This is an DIQA internal notification of new records and files"
   ],
   "id": "ebbb2f34-fcfd-43e9-8b29-654c3de3b4e1"
  },
  {
   "cell_type": "code",
   "execution_count": null,
   "metadata": {},
   "outputs": [],
   "source": [
    "# Email sender\n",
    "email_from <- \"\"\n",
    "\n",
    "# Email recipients\n",
    "email_to <- \"\"\n",
    "\n",
    "# Subject line\n",
    "email_subj <-\n",
    "  \"Sequencing - Keep_NA Part 1 - New Records\"\n",
    "\n",
    "email_body <- paste(\n",
    "\n",
    "  (nrow(new_records)), \"new record(s) in keep_na.csv. \\n \",(length(split_new_records)), \"file(s) printed to For review/Communications_for_keep_na folder.\"\n",
    "  \n",
    "  )\n",
    "\n",
    "sendmailR::sendmail(from = email_from,\n",
    "                    to = email_to,\n",
    "                    subject = email_subj,\n",
    "                    msg = email_body,\n",
    "                    headers= list(\"Reply-To\" = email_from),\n",
    "                    control = list(smtpServer = \"\"))"
   ],
   "id": "11e65701-9457-42f2-8050-1603a94f5b5d"
  },
  {
   "cell_type": "markdown",
   "metadata": {},
   "source": [
    "The remainder of script is only run on Wednesdays"
   ],
   "id": "5216de6e-7fc9-4a0e-864f-584b4e45ced8"
  },
  {
   "cell_type": "code",
   "execution_count": null,
   "metadata": {},
   "outputs": [],
   "source": [
    "# stop script if it isn't Wednesday\n",
    "if(weekdays(today()) != \"Wednesday\") {\n",
    "  stop(\"Do not run rest of script. Run the rest of the script on Wednesdays.\")\n",
    "}"
   ],
   "id": "6c7ceca9-253a-4374-b61b-71986fb22a30"
  },
  {
   "cell_type": "markdown",
   "metadata": {},
   "source": [
    "# Roster data\n",
    "\n",
    "## Set-up\n",
    "\n",
    "### WDRS Connection\n",
    "\n",
    "**IMPORTANT** the variables used to connect to WDRS are held within conn_list.RDS. All .RDS objects in this repository except for VOC.RDS are excluded from Git commits by declaring \\*.RDS in the .gitignore file because they are often used to hold our “secrets” such as credential and server connections. We do not include server connections in code uploaded to GitHub. **WHY?** We have been asked by HTS to ensure our use of GitHub does not raise any security red flags. This server is an internal server containing confidential/restricted PHI. We want to hide this server information to reduce our possible “attack surface”. This connection may seem benign but it tells someone information they can use to “hack” into WDRS. SQL Server Native Client is now deprecated software and version 11 was the last release. Unsupported software is at higher risk of having security breaches. Additionally, someone would know the server name. **So: DO NOT alter the code used to open the connection to WDRS in any way that creates a security risk. Continue to treat this connection as a secret and store its variables in a .RDS object (or other external object that is excluded from Git commits) rather than calling them directly here.**"
   ],
   "id": "1e8b59eb-fb08-4a0b-acf3-1505b68702e8"
  },
  {
   "cell_type": "code",
   "execution_count": null,
   "metadata": {},
   "outputs": [],
   "source": [
    "# connect\n",
    "connection <- DBI::dbConnect(odbc::odbc(), \n",
    "                             Driver = r_creds$conn_list[1], \n",
    "                             Server = r_creds$conn_list[2], \n",
    "                             Database = r_creds$conn_list[3], \n",
    "                             Trusted_connection = r_creds$conn_list[4], \n",
    "                             ApplicationIntent = r_creds$conn_list[5])"
   ],
   "id": "dc37525e-6272-47bf-b363-d71ee0596086"
  },
  {
   "cell_type": "markdown",
   "metadata": {},
   "source": [
    "### WDRS queries\n",
    "\n",
    "The DD_ELR_DD_ENTIRE query is used to match records and find a record’s case_id. The DD_GCD_COVID_19_FLATTENED query is used for QA checks."
   ],
   "id": "0847751c-ca7a-4cfd-9511-7f97478de7e6"
  },
  {
   "cell_type": "code",
   "execution_count": null,
   "metadata": {},
   "outputs": [],
   "source": [
    "# pull CASE_ID, SEQUENCE_CLINICAL_ACCESSION, COLLECTION_DATE and SPECIMEN__ID__ACCESSION__NUM__MANUAL from the [DD_ELR_DD_ENTIRE] table\n",
    "wdrs_ent <- dbGetQuery(connection, \"\n",
    "  SELECT Distinct CASE_ID,\n",
    "    [FILLER__ORDER__NUM] as SEQUENCE_CLINICAL_ACCESSION,\n",
    "    SPECIMEN__COLLECTION__DTTM as COLLECTION_DATE,\n",
    "    SPECIMEN__ID__ACCESSION__NUM__MANUAL\n",
    "  FROM [dbo].[DD_ELR_DD_ENTIRE]\n",
    "  WHERE CODE = 'SARS' AND STATUS != '6'\n",
    "  \")\n",
    "\n",
    "wdrs_ent$COLLECTION_DATE <- as.character(wdrs_ent$COLLECTION_DATE) \n",
    "\n",
    "# pull all SEQUENCE_ACCESSION from the [DD_GCD_COVID_19_FLATTENED] table. (these are specimens that have already been rostered)\n",
    "wdrs_flat <- dbGetQuery(connection, \"\n",
    "  SELECT DISTINCT CDC_N_COV_2019_SEQUENCE_ACCESSION_NUMBER,\n",
    "  CDC_N_COV_2019_SEQUENCE_CLINICAL_ACCESSION_NUMBER\n",
    "  FROM [dbo].[DD_GCD_COVID_19_FLATTENED]\n",
    "  \")"
   ],
   "id": "24983a70-86d0-47c7-9ead-3813fd22284e"
  },
  {
   "cell_type": "markdown",
   "metadata": {},
   "source": [
    "### Create vectors of column names\n",
    "\n",
    "These are referenced for joining tables and selecting column names.\n",
    "\n",
    "-   all_cols: This includes roster columns, WDRS collection date, and date processed. It includes all columns required for the roster_filters function.\n",
    "-   keepna_cols: All columns in the keep_na.csv (roster columns and date processed). If a script outputs additional columns to the keep_na, the csv file will need to be corrected. The extra columns for new records usually get skipped over when reading in the file and the columns need to be in the correct order. If there are strange values in columns, check if an upstream script has had recent changes.\n",
    "-   roster_cols: Roster columns"
   ],
   "id": "8574e711-e334-4cae-b6f4-1616b9aa1b5b"
  },
  {
   "cell_type": "code",
   "execution_count": null,
   "metadata": {},
   "outputs": [],
   "source": [
    "all_cols <- c(\"CASE_ID\",\n",
    "\"SEQUENCE_SGTF\",\n",
    "\"SEQUENCE_SPECIMEN\",\n",
    "\"SEQUENCE_REASON\",\n",
    "\"SEQUENCE_DATE\",\n",
    "\"SEQUENCE_LAB\",\n",
    "\"SEQUENCE_STATUS\",\n",
    "\"SEQUENCE_REPOSITORY\",\n",
    "\"SEQUENCE_ACCESSION\",\n",
    "\"SEQUENCE_VARIANT_OPEN_TEXT\",\n",
    "\"SEQUENCE_CLINICAL_ACCESSION\",\n",
    "\"SEQUENCE_SPECIMEN_COLLECTION_DATE\",\n",
    "\"SEQUENCE_NOTES\",\n",
    "\"SEQUENCE_REVIEWED\",\n",
    "\"Case.Note\",\n",
    "\"COLLECTION_DATE_WDRS\",\n",
    "\"DATE_PROCESSED\")\n",
    "\n",
    "keepna_cols <- c(\"CASE_ID\",\n",
    "\"SEQUENCE_SGTF\",\n",
    "\"SEQUENCE_SPECIMEN\",\n",
    "\"SEQUENCE_REASON\",\n",
    "\"SEQUENCE_DATE\",\n",
    "\"SEQUENCE_LAB\",\n",
    "\"SEQUENCE_STATUS\",\n",
    "\"SEQUENCE_REPOSITORY\",\n",
    "\"SEQUENCE_ACCESSION\",\n",
    "\"SEQUENCE_VARIANT_OPEN_TEXT\",\n",
    "\"SEQUENCE_CLINICAL_ACCESSION\",\n",
    "\"SEQUENCE_SPECIMEN_COLLECTION_DATE\",\n",
    "\"SEQUENCE_NOTES\",\n",
    "\"SEQUENCE_REVIEWED\",\n",
    "\"Case.Note\",\n",
    "\"DATE_PROCESSED\")\n",
    "\n",
    "roster_cols <- c(\"CASE_ID\",\n",
    "\"SEQUENCE_SGTF\",\n",
    "\"SEQUENCE_SPECIMEN\",\n",
    "\"SEQUENCE_REASON\",\n",
    "\"SEQUENCE_DATE\",\n",
    "\"SEQUENCE_LAB\",\n",
    "\"SEQUENCE_STATUS\",\n",
    "\"SEQUENCE_REPOSITORY\",\n",
    "\"SEQUENCE_ACCESSION\",\n",
    "\"SEQUENCE_VARIANT_OPEN_TEXT\",\n",
    "\"SEQUENCE_CLINICAL_ACCESSION\",\n",
    "\"SEQUENCE_SPECIMEN_COLLECTION_DATE\",\n",
    "\"SEQUENCE_NOTES\",\n",
    "\"SEQUENCE_REVIEWED\",\n",
    "\"Case.Note\")"
   ],
   "id": "0e795d91-3abc-413b-bda5-e636f9bc3c10"
  },
  {
   "cell_type": "markdown",
   "metadata": {},
   "source": [
    "### WDRS Sequence Accession values\n",
    "\n",
    "The flattened table can include multiple values in a single row. The SEQUENCE_ACCESSION values are split at each “,” to create a single vector of values. The list of SA values is used in the roster_filters function to check if a record’s SA already exists in WDRS."
   ],
   "id": "eeea3c1a-b050-4770-9d2d-90ae2582a697"
  },
  {
   "cell_type": "code",
   "execution_count": null,
   "metadata": {},
   "outputs": [],
   "source": [
    "# for fields that have multiple comma separated SEQUENCE_ACCESSION's split them by \",\"\n",
    "wdrs_sa_flat_split <- unlist(str_split(wdrs_flat[[1]], \",\"))\n",
    "\n",
    "# omit any NA's\n",
    "wdrs_sa_flat_clean <- wdrs_sa_flat_split[!is.na(wdrs_sa_flat_split)] %>%\n",
    "#for fields that have \"hCoV-19/\" appended to the beginning of the SEQUENCE_ACCESSION remove it by str_replace() with \"\"\n",
    "  str_replace(\"hCoV-19/\", \"\") %>%\n",
    "# trim off the white space resulting from str_split, this also gets rid of \" \" values  \n",
    "  str_trim(\"both\")\n",
    "\n",
    "# remove any values that are \"\"\n",
    "wdrs_sa_flat_values <- wdrs_sa_flat_clean[wdrs_sa_flat_clean != \"\"]"
   ],
   "id": "842445ac-0351-4809-9ea6-436b3da490a1"
  },
  {
   "cell_type": "markdown",
   "metadata": {},
   "source": [
    "### WDRS Sequence Clinical Accession values\n",
    "\n",
    "The SEQUENCE_CLINICAL_ACCESSION values are split at each “,” to create a single vector of values. The list of SCA values is used in the roster_filters function to check if a record’s SCA already exists in WDRS."
   ],
   "id": "6726eaef-c48c-4698-80d4-7c3c203eab38"
  },
  {
   "cell_type": "code",
   "execution_count": null,
   "metadata": {},
   "outputs": [],
   "source": [
    "# for fields that have multiple comma separated SEQUENCE_CLINICAL_ACCESSION's split them by \",\"\n",
    "wdrs_sca_flat_split <- unlist(str_split(wdrs_flat[[2]], \",\"))\n",
    "\n",
    "# omit any NA's\n",
    "wdrs_sca_flat_clean <- wdrs_sca_flat_split[!is.na(wdrs_sca_flat_split)] %>%\n",
    "#for fields that have \"hCoV-19/\" appended to the beginning of the SEQUENCE_CLINICAL_ACCESSION remove it by str_replace() with \"\"\n",
    "  str_replace(\"hCoV-19/\", \"\") %>%\n",
    "# trim off the white space resulting from str_split, this also gets rid of \" \" values  \n",
    "  str_trim(\"both\")\n",
    "\n",
    "# remove any values that are \"\"\n",
    "wdrs_sca_flat_values <- wdrs_sca_flat_clean[wdrs_sca_flat_clean != \"\"]"
   ],
   "id": "0b43e47d-b783-42a0-9659-84bc7c134765"
  },
  {
   "cell_type": "markdown",
   "metadata": {},
   "source": [
    "### Load WA GISAID data\n",
    "\n",
    "WA GISAID file is used to update the lineage information for matched records."
   ],
   "id": "524e08e4-1fe1-474e-8c25-97a68c06def5"
  },
  {
   "cell_type": "code",
   "execution_count": null,
   "metadata": {},
   "outputs": [],
   "source": [
    "# gisaid_metadata <- read_tsv(file.path(project_folder, \"GISAID Data\\\\wa_gisaid_data.tsv\"), \n",
    "#                             col_types = cols(.default = \"c\"),\n",
    "#                            na = c(\"\", \"NA\", \"None\", \"NONE\") \n",
    "#                             )\n",
    "\n",
    "gisaid_metadata <- read_rds(\"GISAID Data\\\\wa_gisaid.rds\") %>%\n",
    "  as_tibble()"
   ],
   "id": "932f6775-7a98-40f1-96e2-70c05d7d991d"
  },
  {
   "cell_type": "markdown",
   "metadata": {},
   "source": [
    "### Load WA CDC Cumulative data\n",
    "\n",
    "WA CDC Cumulative file is also used to update lineage information."
   ],
   "id": "88863a7e-6244-4840-8ffc-a4311b86325a"
  },
  {
   "cell_type": "code",
   "execution_count": null,
   "metadata": {},
   "outputs": [],
   "source": [
    "CDC_cumulative <- read_csv(\"Submissions/CDC_Cumulative/Washington_cumulative.csv\", \n",
    "                            col_types = cols(.default = \"c\"),\n",
    "                            na = c(\"\", \"NA\", \"None\", \"NONE\")\n",
    "                            )"
   ],
   "id": "50c75e32-f8c6-4cdb-806a-72f83f8f0099"
  },
  {
   "cell_type": "markdown",
   "metadata": {},
   "source": [
    "### Load sequence reasons, laboratories, and lineages\n",
    "\n",
    "Both of these files are used in QA checks The lab_variables.rds file is created in Roster_scripts/write_lab_variables.R. It includes valid sequence reasons and lab names and is used across multiple scripts. Please refer to the tables on the GitHub wiki for updates.  \n",
    "The lineages.csv file contains all lineages, both active and withdrawn."
   ],
   "id": "b29ffb8f-c7a1-4047-be1a-b913f90d954d"
  },
  {
   "cell_type": "code",
   "execution_count": null,
   "metadata": {},
   "outputs": [],
   "source": [
    "# bring in object with sequence reasons and sequence laboratories\n",
    "lab_vars <- readRDS(\"Data_Objects/lab_variables.rds\")\n",
    "\n",
    "# bring in file with all lineages (active or withdrawn)\n",
    "lineages <- read_csv(\"Data_Objects/Lineages/Lineages.csv\", col_types = \"c\")"
   ],
   "id": "876a1cef-b01d-488a-9c1b-e7255b6e58b9"
  },
  {
   "cell_type": "markdown",
   "metadata": {},
   "source": [
    "### Quality filter functions\n",
    "\n",
    "The quality filters script includes the roster_filters function for QA checks."
   ],
   "id": "9a15d54d-75ba-4ae4-9d4c-664df81d927b"
  },
  {
   "cell_type": "code",
   "execution_count": null,
   "metadata": {},
   "outputs": [],
   "source": [
    "# Read in quality_filters\n",
    "source(file.path(\"C:/Users/\", Sys.getenv(\"USERNAME\"), \"Projects/Sequencing/Roster_scripts/quality_filters.R\"))"
   ],
   "id": "44c990f9-8328-4338-a036-56199a915677"
  },
  {
   "cell_type": "markdown",
   "metadata": {},
   "source": [
    "## Matching to WDRS\n",
    "\n",
    "### Remove duplicates, low quality, failed, or pending records\n",
    "\n",
    "Duplicates and non-PHL records that are failed or low quality are dropped from the keep_na."
   ],
   "id": "74d4cf68-baa9-4d88-97f1-54296a0d6312"
  },
  {
   "cell_type": "code",
   "execution_count": null,
   "metadata": {},
   "outputs": [],
   "source": [
    "keep_na_keep <- keep_na %>% \n",
    "  # remove records SEQUENCE_STATUS as PENDING \n",
    "  filter(SEQUENCE_STATUS != \"PENDING\") %>% \n",
    "  # remove FAILED or LOW QUALITY records from non-PHL submitters\n",
    "  filter(SEQUENCE_LAB == \"PHL\" | !SEQUENCE_STATUS %in% c(\"FAILED\", \"LOW QUALITY\")) %>% \n",
    "  # remove duplicates\n",
    "  distinct(across(all_of(roster_cols)), .keep_all = TRUE)"
   ],
   "id": "cf4d0ede-433b-4c22-a515-c7c3ea5424f1"
  },
  {
   "cell_type": "markdown",
   "metadata": {},
   "source": [
    "### Create column for joining\n",
    "\n",
    "To match records, the SEQUENCE_ACCESSION needs to be reformatted to the GISAID ID. This also checks the format for SEQUENCE_SPECIMEN_COLLECTION_DATE and SEQUENCE_LAB. If a record from a CDC lab has a blank SEQUENCE_REASON, it’s populated with SENTINEL SURVEILLANCE. When all processes are finalized, the SEQUENCE_REASON, SEQUENCE_LAB, and/or SEQUENCE_SPECIMEN_COLLECTION_DATE mutate statements could likely be removed (and any problems will be handled within the for review process.)"
   ],
   "id": "5fd5eea3-be73-4445-a23b-7714b70bf4f5"
  },
  {
   "cell_type": "code",
   "execution_count": null,
   "metadata": {},
   "outputs": [],
   "source": [
    "keep_na_mut <- keep_na_keep %>%\n",
    "  # Reformat SEQUENCE_REASON and SEQUENCE_LAB\n",
    "  mutate(SEQUENCE_REASON = case_when(\n",
    "                    is.na(SEQUENCE_REASON) & SEQUENCE_LAB %in% lab_vars$cdc_labs ~ \n",
    "                      \"SENTINEL SURVEILLANCE\",\n",
    "                    TRUE ~ \n",
    "                      str_to_upper(SEQUENCE_REASON))) %>% \n",
    "  mutate(SEQUENCE_LAB = case_when(\n",
    "                    str_detect(toupper(SEQUENCE_LAB), \"AEGIS\") ~ \"Aegis\",\n",
    "                    str_detect(toupper(SEQUENCE_LAB), \"OREGON\") ~ \"OHSU\",\n",
    "                    str_detect(toupper(SEQUENCE_LAB), \"SCAN/BEDFORD\") ~ \"NW Genomics\",\n",
    "                    TRUE ~ \n",
    "                      SEQUENCE_LAB)) %>%\n",
    "  # Format dates across wdrs_ent, gisaid_metadata and CDC (\"08/05/2021\")\n",
    "  mutate(SEQUENCE_SPECIMEN_COLLECTION_DATE =\n",
    "               case_when(\n",
    "                 !str_detect(SEQUENCE_SPECIMEN_COLLECTION_DATE, \"^[[:digit:]]{5}$\") ~\n",
    "                   as.character(format(parse_date_time(SEQUENCE_SPECIMEN_COLLECTION_DATE,  \n",
    "                                                       c(\"mdy\", \"ymd\")), \"%m/%d/%Y\")),\n",
    "                 str_detect(SEQUENCE_SPECIMEN_COLLECTION_DATE, \"^[[:digit:]]{5}$\") ~\n",
    "                   as.character(openxlsx::convertToDate(SEQUENCE_SPECIMEN_COLLECTION_DATE)\n",
    "                      ))) %>% \n",
    "  # Create a new column GISAID_ID to match against GISAID and CDC\n",
    "  mutate(GISAID_ID = case_when(\n",
    "                    str_detect(toupper(SEQUENCE_ACCESSION), \"^USA\") ~ \n",
    "                        paste0(\"hCoV-19/\", SEQUENCE_ACCESSION),\n",
    "                    TRUE ~ \n",
    "                      SEQUENCE_ACCESSION))\n",
    "\n",
    "\n",
    "# Check if anything is still in Excel date format\n",
    "\n",
    "if (any(na.omit(str_detect(keep_na_mut$SEQUENCE_SPECIMEN_COLLECTION_DATE, \"^[[:digit:]]{5}$\")))){\n",
    "  stop(paste0(\"Please review date column. There is a date in Excel format\"))\n",
    "}\n",
    "\n",
    "# With the mutate statement for SEQUENCE_SPECIMEN_COLLECTION_DATE, there will be a warning about NAs introduced by coercion. These were probably NAs before the mutate statement and don't need any further investigation. If there are more NAs in the date column after the mutate statement, check if there's a new date format that's being used and not being captured in the format options.\n",
    "\n",
    "if (any(keep_na_keep %>% count(is.na(SEQUENCE_SPECIMEN_COLLECTION_DATE)) !=  keep_na_mut %>%\n",
    "        count(is.na(SEQUENCE_SPECIMEN_COLLECTION_DATE)))){\n",
    "  stop(paste0(\"Please review date column. NAs have been introduced after date parsing. Review keep_na_keep for new date formats.\"))\n",
    "}"
   ],
   "id": "c14a5e9b-3b29-49a7-a04c-e82029dd0d19"
  },
  {
   "cell_type": "markdown",
   "metadata": {},
   "source": [
    "### Join with WDRS_ENTIRE table to get CASE_ID\n",
    "\n",
    "Match the two tables using SEQUENCE_CLINCIAL_ACCESSION and SEQUENCE_SPECIMEN_COLLECTION_DATE. If a record is matched and the submitted collection date is within 14 days of the WDRS colleciton date, the case_id is added to the record. Records that already have a CASE_ID are not updated."
   ],
   "id": "51e7f541-3a26-4b3b-9425-2160d7a08aad"
  },
  {
   "cell_type": "code",
   "execution_count": null,
   "metadata": {},
   "outputs": [],
   "source": [
    "# Join keep_na with wdrs entire table\n",
    "keep_na_ent <- keep_na_mut %>%\n",
    "  # Get CASE_ID by matching with SEQUENCE_CLINICAL_ACCESSION and 14 day collection day window\n",
    "  left_join(wdrs_ent %>% \n",
    "              rename(CASE_ID_SCA=CASE_ID, COLLECTION_DATE_WDRS = COLLECTION_DATE), \n",
    "            by = c(\"SEQUENCE_CLINICAL_ACCESSION\"), na_matches=\"never\") %>%\n",
    "  distinct()\n",
    "\n",
    "# Check for additional errors\n",
    "keep_na_review_errors <-  \n",
    "  roster_filters(keep_na_ent, lab_vars, wdrs_sa_flat_values, wdrs_sca_flat_values, lineages$lineage_extracted)\n",
    "\n",
    "  \n",
    "# If the difference in collection date is less than 14 days, the case_id can be populated from WDRS\n",
    "# This filters out the records that have a SEQUENCE_CLINICAL_ACCESSION match in WDRS but the collection date range is more than 14 days\n",
    "  keep_na_case <- keep_na_review_errors %>% \n",
    "    mutate(CASE_ID = case_when(\n",
    "     # If case_id is missing and a case_id is found from wdrs with a collection date within a 14 day window, use the case_id from wdrs\n",
    "        is.na(CASE_ID)  & !is.na(CASE_ID_SCA) & is.na(QA_COLLECT_DATE) ~ CASE_ID_SCA, \n",
    "        TRUE ~ CASE_ID))"
   ],
   "id": "9de61fe8-66bf-4715-800a-229e1ae726c9"
  },
  {
   "cell_type": "markdown",
   "metadata": {},
   "source": [
    "### Update SEQUENCE_VARIANT_OPEN_TEXT\n",
    "\n",
    "Match the keep_na records to the GISAID file and the CDC file and format the collection date variable. If the record is matched, update the SEQUENCE_OPEN_TEXT_VARIANT, SEQUENCE_STATUS, and SEQUENCE_SPECIMEN_COLLECTION_DATE. The SEQUENCE_OPEN_TEXT_VARIANT should be populated using the variant in the GISAID or CDC files over what is already in SEQUENCE_OPEN_TEXT_VARIANT column."
   ],
   "id": "a07b645d-6824-486a-b410-b845bb9d2eb0"
  },
  {
   "cell_type": "code",
   "execution_count": null,
   "metadata": {},
   "outputs": [],
   "source": [
    "keep_na_var <- keep_na_case %>%\n",
    "  # Join columns from gisaid_metadata, match on \"GISAID_ID\" = \"Virus name\" to join lineage column\n",
    "  left_join(gisaid_metadata[c(\"Virus name\", \"Lineage\", \"Collection date\")], \n",
    "            by = c(\"GISAID_ID\" = \"Virus name\")) %>%\n",
    "  # Join columns from CDC cumulative, match on \"GISAID_ID\" = \"GISAID_name\" to join lineage_PANGO_lineage column\n",
    "  left_join(CDC_cumulative[c(\"GISAID_name\", \"lineage_PANGO_lineage\", \"collection_date\")], \n",
    "            by = c(\"GISAID_ID\" = \"GISAID_name\")) %>%\n",
    "  rename(\"COLLECTION_DATE_GISAID\" = \"Collection date\", \n",
    "         \"COLLECTION_DATE_CDC\" = \"collection_date\") %>%\n",
    "  # Formatted date to be in m/d/y format and check for Excel date format\n",
    "  mutate(COLLECTION_DATE_GISAID =\n",
    "          case_when(\n",
    "                 !str_detect(COLLECTION_DATE_GISAID, \"^[[:digit:]]{5}$\") ~\n",
    "                   as.character(format(parse_date_time(COLLECTION_DATE_GISAID,  \n",
    "                                                       c(\"mdy\", \"ymd\")), \"%m/%d/%Y\")),\n",
    "                  str_detect(COLLECTION_DATE_GISAID, \"^[[:digit:]]{5}$\") ~\n",
    "                    as.character(openxlsx::convertToDate(COLLECTION_DATE_GISAID)\n",
    "                    )),\n",
    "        COLLECTION_DATE_CDC =\n",
    "           case_when(\n",
    "                 !str_detect(COLLECTION_DATE_CDC, \"^[[:digit:]]{5}$\") ~ \n",
    "                   as.character(format(parse_date_time(COLLECTION_DATE_CDC,  \n",
    "                                                       c(\"mdy\", \"ymd\")), \"%m/%d/%Y\")),\n",
    "                  str_detect(COLLECTION_DATE_CDC, \"^[[:digit:]]{5}$\") ~ \n",
    "                    as.character(openxlsx::convertToDate(COLLECTION_DATE_CDC)\n",
    "                    )) \n",
    "                  )\n",
    "\n",
    "\n",
    "keep_na_var <- keep_na_var %>%  \n",
    "  mutate(SEQUENCE_VARIANT_OPEN_TEXT = \n",
    "           # Combine lineage information to one column\n",
    "           case_when(\n",
    "             # Update SEQUENCE_VARIANT_OPEN_TEXT column using lineage_PANGO_lineage and Lineage\n",
    "             # If a CDC_lab, use lineage_PANGO_lineage, otherwise use Lineage\n",
    "              !is.na(lineage_PANGO_lineage) & lineage_PANGO_lineage != \"None\" & \n",
    "                SEQUENCE_LAB %in% lab_vars$cdc_labs ~\n",
    "                      lineage_PANGO_lineage,\n",
    "              !is.na(Lineage)  & Lineage != \"None\" & \n",
    "                !(SEQUENCE_LAB %in% lab_vars$cdc_labs)  ~ \n",
    "                      Lineage,\n",
    "              !is.na(lineage_PANGO_lineage)  & lineage_PANGO_lineage != \"None\" ~ \n",
    "                      lineage_PANGO_lineage,\n",
    "              !is.na(Lineage)  & Lineage != \"None\" ~ \n",
    "                      Lineage,\n",
    "                     TRUE ~ \n",
    "                NA_character_\n",
    "                     )) %>% \n",
    "  \n",
    "  # SEQUENCE_VARIANT_OPEN_TEXT needs to be a valid lineage\n",
    "  mutate(SEQUENCE_VARIANT_OPEN_TEXT = \n",
    "           case_when(SEQUENCE_VARIANT_OPEN_TEXT %in% lineages$lineage_extracted ~ \n",
    "                       SEQUENCE_VARIANT_OPEN_TEXT,\n",
    "           TRUE ~ NA_character_)) %>% \n",
    "  \n",
    "    # Update SEQUENCE_STATUS to COMPLETE if Lineage is present\n",
    "    mutate(SEQUENCE_STATUS = \n",
    "             case_when(\n",
    "              is.na(SEQUENCE_STATUS) & !is.na(SEQUENCE_VARIANT_OPEN_TEXT) ~ \n",
    "                \"COMPLETE\",\n",
    "              TRUE ~ SEQUENCE_STATUS)) %>%\n",
    "  \n",
    "  # Update SEQUENCE_SPECIMEN_COLLECTION_DATE\n",
    "  mutate(SEQUENCE_SPECIMEN_COLLECTION_DATE = \n",
    "    case_when(\n",
    "      \n",
    "    # If date is missing and observation is from a CDC lab, use collection date from CDC cumulative \n",
    "    is.na(SEQUENCE_SPECIMEN_COLLECTION_DATE) & !is.na(COLLECTION_DATE_CDC) & \n",
    "      SEQUENCE_LAB %in% lab_vars$cdc_labs ~ \n",
    "      COLLECTION_DATE_CDC,\n",
    "    \n",
    "    #  If date is missing and observation is from a CDC lab, use collection date from gisaid\n",
    "    is.na(SEQUENCE_SPECIMEN_COLLECTION_DATE) & !is.na(COLLECTION_DATE_GISAID) & \n",
    "      !(SEQUENCE_LAB %in% lab_vars$cdc_labs) ~ \n",
    "      COLLECTION_DATE_GISAID,\n",
    "    \n",
    "    # If date is missing, use collection date from CDC cumulative \n",
    "    is.na(SEQUENCE_SPECIMEN_COLLECTION_DATE) & !is.na(COLLECTION_DATE_CDC) ~ \n",
    "      COLLECTION_DATE_CDC,\n",
    "    \n",
    "    # If date is missing, use collection date from gisaid\n",
    "    is.na(SEQUENCE_SPECIMEN_COLLECTION_DATE) & !is.na(COLLECTION_DATE_GISAID)  ~ \n",
    "      COLLECTION_DATE_GISAID,\n",
    "    \n",
    "         TRUE ~ SEQUENCE_SPECIMEN_COLLECTION_DATE)) %>% \n",
    "    distinct()"
   ],
   "id": "197d9809-e355-4730-9c9b-7b230f825710"
  },
  {
   "cell_type": "markdown",
   "metadata": {},
   "source": [
    "### Create preliminary roster\n",
    "\n",
    "All roster variables are updated here. SEQUENCE_NOTES is updated to match new SEQUENCE_VARIANT_OPEN_TEXT"
   ],
   "id": "aa41a287-d7e9-4787-a3b4-9f447b2ff7ec"
  },
  {
   "cell_type": "code",
   "execution_count": null,
   "metadata": {},
   "outputs": [],
   "source": [
    "# Should use the most up-to-date lineage from the CDC_cumulative or wa_gisaid files\n",
    "# The updated lineage should be used in SEQUENCE_VARIANT_OPEN_TEXT and SEQUENCE_NOTES\n",
    "# If SEQUENCE_STATUS is COMPLETE, NOTES need be present to be rostered\n",
    "# Some NOTES show lineage as none or NA. These should be replaced from one of the lineage columns (Lineage, lineage_PANGO_lineage, or SEQUENCE_VARIANT_OPEN_TEXT) or changed to blank if those are missing\n",
    "\n",
    "\n",
    "keep_na_roster_check <- keep_na_var %>%\n",
    "  mutate(SEQUENCE_SGTF = \"\") %>%\n",
    "  mutate(SEQUENCE_SPECIMEN = \"YES\") %>%\n",
    "  mutate(SEQUENCE_DATE = \"\") %>% \n",
    "  mutate(SEQUENCE_REPOSITORY = \"GISAID\") %>% \n",
    "  mutate(SEQUENCE_REVIEWED = \"\") %>%\n",
    "  mutate(Case.Note = \"External data question package updated by COVID19 Sequencing Roster.\") %>% \n",
    "  mutate(SEQUENCE_ACCESSION=str_replace(SEQUENCE_ACCESSION,\"hCoV-19/\", \"\")) %>% \n",
    "    mutate(SEQUENCE_NOTES = \n",
    "             case_when(\n",
    "    # If notes missing, fill in with lineage\n",
    "    is.na(SEQUENCE_NOTES) & !is.na(SEQUENCE_VARIANT_OPEN_TEXT) ~ \n",
    "         paste0(\"Lineage identified as \", SEQUENCE_VARIANT_OPEN_TEXT, \" on \",\n",
    "            today(), \". Lineage assignments may change over time.\"),\n",
    "    \n",
    "   # If notes say lineage is none or NA, update with lineage\n",
    "   (str_detect(toupper(SEQUENCE_NOTES), \"LINEAGE IDENTIFIED AS NONE\") | \n",
    "      str_detect(toupper(SEQUENCE_NOTES), \"LINEAGE IDENTIFIED AS NA\")) & \n",
    "     !is.na(SEQUENCE_VARIANT_OPEN_TEXT)   ~\n",
    "        paste0(\"Lineage identified as \", SEQUENCE_VARIANT_OPEN_TEXT, \" on \", \n",
    "           today(), \". Lineage assignments may change over time.\"),\n",
    "   \n",
    "   # If notes exist by lineage needs to be updated\n",
    "    !str_detect (SEQUENCE_NOTES, SEQUENCE_VARIANT_OPEN_TEXT)   & \n",
    "     !is.na(SEQUENCE_VARIANT_OPEN_TEXT)  ~  \n",
    "        paste0(\"Lineage identified as \", SEQUENCE_VARIANT_OPEN_TEXT, \" on \", \n",
    "             today(), \". Lineage assignments may change over time.\"),\n",
    "   \n",
    "   # If notes say lineage was identified as none or na and there isn't a lineage, change to blank\n",
    "   (str_detect(toupper(SEQUENCE_NOTES), \"LINEAGE IDENTIFIED AS NONE\") | \n",
    "      str_detect(toupper(SEQUENCE_NOTES), \"LINEAGE IDENTIFIED AS NA\")) &  \n",
    "     (is.na(SEQUENCE_VARIANT_OPEN_TEXT)) ~ \n",
    "        \"\",\n",
    "   \n",
    "   # Change NA to blank\n",
    "    is.na(SEQUENCE_NOTES) ~ \n",
    "        \"\",\n",
    "    TRUE ~ SEQUENCE_NOTES)) \n",
    "\n",
    "\n",
    "\n",
    "keep_na_roster_1 <- keep_na_roster_check %>%\n",
    "  select(all_of(all_cols))"
   ],
   "id": "bdfd67d6-6e4d-4b09-aaa5-4126c46d3a9c"
  },
  {
   "cell_type": "markdown",
   "metadata": {},
   "source": [
    "### Quality filters\n",
    "\n",
    "Run quality checks on records. The majority of records usually stay in the keep_na.csv, so don’t be alarmed by a high number of flags."
   ],
   "id": "da016b12-d025-4955-8551-45c910db1be2"
  },
  {
   "cell_type": "code",
   "execution_count": null,
   "metadata": {},
   "outputs": [],
   "source": [
    "keep_na_qa <- roster_filters(keep_na_roster_1, lab_vars, wdrs_sa_flat_values, wdrs_sca_flat_values, lineages$lineage_extracted)"
   ],
   "id": "b4e4d251-aab0-430b-a66c-5631de0c91a0"
  },
  {
   "cell_type": "markdown",
   "metadata": {},
   "source": [
    "### Final outputs\n",
    "\n",
    "Save records that are ready to be rostered, that have non-keepna quality issues, or that need to stay in the keepna.csv"
   ],
   "id": "7b7ed77e-cbfd-41d3-b488-d719bb696862"
  },
  {
   "cell_type": "code",
   "execution_count": null,
   "metadata": {},
   "outputs": [],
   "source": [
    "# Output roster in general for all labs\n",
    "\n",
    "keep_na_roster_final <- keep_na_qa %>% \n",
    "                          filter(sum == 0) %>%  \n",
    "                          select(all_of(roster_cols))\n",
    "\n",
    "\n",
    "if(nrow(keep_na_roster_final) > 0) {\n",
    "  keep_na_roster_final %>%\n",
    "    write_csv(paste0(file.path(\"write_roster_here/keep_naNewSeq_\"), format(now(), \"%Y-%m-%d-%H%M%S\"), \".csv\"), na = \"\")\n",
    "}\n",
    "\n",
    "\n",
    "# Output rows with error for review\n",
    "# Rows missing case_id, missing sequence clinical accession, or missing sequence accession shouldn't be sent to for review folder (stay in keep_na file for 60 days before deleting)\n",
    "\n",
    "keep_na_review <- keep_na_qa %>% \n",
    "  filter(is.na(QA_CASE_ID) & \n",
    "           is.na(QA_SCA_NA) &\n",
    "           is.na(QA_SEQ_STAT)) \n",
    "\n",
    "\n",
    "if(nrow(keep_na_review) > 0) {\n",
    "  keep_na_review %>%\n",
    "    select(-DATE_PROCESSED, -sum) %>% \n",
    "  write_csv(paste0(\"For_Review/to_process/keep_na_review\", format(now(), \"%Y-%m-%d-%H%M%S\"), \".csv\"), na = \"\")\n",
    "  }\n",
    "\n",
    "\n",
    "# Outputs rows that don't meet criteria to the keep_na_final file\n",
    "keep_na_final <- keep_na_roster_1 %>% \n",
    "  anti_join(keep_na_roster_final, by=roster_cols) %>% \n",
    "  anti_join(keep_na_review, by=roster_cols) %>% \n",
    "  distinct() %>% \n",
    "  select(all_of(keepna_cols))\n",
    "\n",
    "# Save the keep_na csv file here if it isn't the first week of the month\n",
    "if(day(today()) >= 8) {\n",
    "# Output keep_na_final as running keep_na\n",
    "if(nrow(keep_na_final) > 0) {\n",
    " keep_na_final %>%\n",
    "   write_csv(paste0(\"keep_na/keep_na.csv\"), na = \"\")\n",
    " }\n",
    "}"
   ],
   "id": "02504867-1892-4aa7-b9a9-4b969ff20641"
  },
  {
   "cell_type": "markdown",
   "metadata": {},
   "source": [
    "## Save files\n",
    "\n",
    "These need to be used to replicate the results from a specific day’s run (copy of keep_na from that day is also saved here)"
   ],
   "id": "e00bd54a-722f-438f-825b-dc5e51fa53e3"
  },
  {
   "cell_type": "code",
   "execution_count": null,
   "metadata": {},
   "outputs": [],
   "source": [
    "saveRDS(CDC_cumulative, (paste0(file.path(newdir), \"/\", \"wa_cdc\", format(now(), \"%Y-%m-%d-%H%M%S\"), \".RDS\")))\n",
    "saveRDS(gisaid_metadata, (paste0(file.path(newdir), \"/\", \"gisaid_wa\", format(now(), \"%Y-%m-%d-%H%M%S\"), \".RDS\")))"
   ],
   "id": "491b21f3-e5a6-4591-91d1-a1ac81442e36"
  },
  {
   "cell_type": "markdown",
   "metadata": {},
   "source": [
    "## Send email - DIQA internal notification of keep_na records sent to write_roster_here or for_review"
   ],
   "id": "dd0d87b4-6d69-4c3f-ba5b-fc6fc44e45fd"
  },
  {
   "cell_type": "code",
   "execution_count": null,
   "metadata": {},
   "outputs": [],
   "source": [
    "# Subject line\n",
    "email_subj2 <-\n",
    "  \"Sequencing - Keep_NA Part 2 - Match keep_na to WDRS\"\n",
    "\n",
    "email_body2 <- paste(\n",
    "  \n",
    "  (nrow(keep_na_roster_final)), \"keep_na record(s) matched to WDRS and sent to writer_roster_here.\\n\",(nrow(keep_na_review)), \"keep_na records matched to WDRS and sent to for_review.\"\n",
    "  \n",
    "  )\n",
    "\n",
    "sendmailR::sendmail(from = email_from,\n",
    "                    to = email_to,\n",
    "                    subject = email_subj2,\n",
    "                    msg = email_body2,\n",
    "                    headers= list(\"Reply-To\" = email_from),\n",
    "                    control = list(smtpServer = \"\"))"
   ],
   "id": "36ce5d2f-873b-43b5-94ff-26f088677cac"
  },
  {
   "cell_type": "markdown",
   "metadata": {},
   "source": [
    "# Remove old records\n",
    "\n",
    "Identify records that were sent to the keep_na.csv over 60 days ago. A column is added with notes about why the record couldn’t be rostered. The notes include details about:\n",
    "\n",
    "-   if SCA is missing or not in WDRS\n",
    "-   if SA is missing, not in GISAID, or not in CDC\n",
    "-   if CASE_ID is missing"
   ],
   "id": "60715d2f-8a19-471a-9194-fa10d66d257f"
  },
  {
   "cell_type": "code",
   "execution_count": null,
   "metadata": {},
   "outputs": [],
   "source": [
    "# DATE_PROCESSED variable in different formats\n",
    "keep_na_final <- keep_na_final %>% mutate(DATE_PROCESSED = \n",
    "                                            as.character(format(parse_date_time(DATE_PROCESSED, c(\"mdy\", \"ymd\")), \"%m/%d/%Y\")))\n",
    "\n",
    "# Currently, we only need to run this once a month (if this needs to be run more often, modify the if statement)\n",
    "if(day(today()) < 8) {\n",
    "  \n",
    "# Make a table of samples that are less than 60 days old\n",
    "  keep_na_save <- keep_na_final %>% \n",
    "    mutate(DATE_PROCESSED = \n",
    "             as.Date(DATE_PROCESSED, \"%m/%d/%Y\")) %>% \n",
    "    filter(DATE_PROCESSED >= today()-days(60)) %>% \n",
    "    mutate(DATE_PROCESSED = \n",
    "             as.character(format(parse_date_time(DATE_PROCESSED, c(\"mdy\", \"ymd\")), \"%m/%d/%Y\"))) %>%\n",
    "    select(all_of(keepna_cols))\n",
    "  \n",
    "# Finding observations that are > 60 days old and adding notes about why can't be rostered for further investigation\n",
    "  keep_na_delete <- keep_na_final %>%\n",
    "     # Remove any samples that are less than 60 days old\n",
    "    anti_join(keep_na_save, by=roster_cols) %>%\n",
    "    mutate(\n",
    "      \n",
    "      # SEQUENCE_CLINICAL_ACCESSION is not in wdrs_ent or is missing\n",
    "      condition_1 = \n",
    "        case_when(is.na(SEQUENCE_CLINICAL_ACCESSION)  ~ \n",
    "                         \"SCA missing\",\n",
    "                  (!(SEQUENCE_CLINICAL_ACCESSION %in% wdrs_ent$SEQUENCE_CLINICAL_ACCESSION)|\n",
    "                   !(SEQUENCE_CLINICAL_ACCESSION %in% wdrs_ent$SPECIMEN__ID__ACCESSION__NUM__MANUAL))  ~ \n",
    "                        \"SCA not in WDRS\"),\n",
    "      \n",
    "      # SEQUENCE_ACCESSION missing, not in GISAID, not in CDC cumulative\n",
    "      condition_2 = \n",
    "        case_when(is.na(SEQUENCE_ACCESSION) ~ \n",
    "                      \"SA missing\",\n",
    "                  \n",
    "      # SEQUENCE_ACCESSION is not in GISAID for non-CDC labs\n",
    "                  !(SEQUENCE_LAB %in% lab_vars$cdc_labs) & \n",
    "                  !(paste0(\"hCoV-19/\", SEQUENCE_ACCESSION) %in% gisaid_metadata$`Virus name`)  ~ \n",
    "                      \"SA not in GISAID\",\n",
    "      \n",
    "      # SEQUENCE_ACCESSION is not in CDC cumulative for CDC labs\n",
    "                    (SEQUENCE_LAB %in% lab_vars$cdc_labs) & \n",
    "                    !(paste0(\"hCoV-19/\", SEQUENCE_ACCESSION) %in% CDC_cumulative$GISAID_name)  ~ \n",
    "                      \"SA not in CDC cumulative\"),\n",
    "      \n",
    "      # CASE_ID is missing\n",
    "      condition_3 = case_when(is.na(CASE_ID) ~ \"CASE_ID missing\")\n",
    "           ) %>%\n",
    "    \n",
    "  # combine notes into one column\n",
    "  unite(\"NOTES\", condition_1:condition_3, remove = TRUE, sep = \" / \", na.rm = TRUE) %>% \n",
    "    arrange(SEQUENCE_LAB)\n",
    "  \n",
    "  if(nrow(keep_na_save) > 0) {\n",
    "        keep_na_save %>%\n",
    "          write_csv(\"keep_na/keep_na.csv\", na = \"\")\n",
    "  }\n",
    "\n",
    "  if(nrow(keep_na_delete) > 0) {\n",
    "        keep_na_delete %>%\n",
    "          write_csv(paste0(\"keep_na/Delete/keep_na_delete_\", format(now(), \"%Y-%m-%d\"), \".csv\"), na = \"\")\n",
    "  }\n",
    "}"
   ],
   "id": "fa87fd59-f4e9-49c5-b008-ca9dea110924"
  },
  {
   "cell_type": "markdown",
   "metadata": {},
   "source": [
    "## Send email - DIQA internal notification of monthly keep_na_delete file"
   ],
   "id": "595f1cac-dc84-449a-9c7e-325d0fd688e2"
  },
  {
   "cell_type": "code",
   "execution_count": null,
   "metadata": {},
   "outputs": [],
   "source": [
    "# Subject line\n",
    "email_subj3 <-\n",
    "  \"Sequencing - Keep_NA Part 3 - Remove Old Records\"\n",
    "\n",
    "email_body3 <- paste(\n",
    "  \n",
    "  (nrow(keep_na_delete)), \"record(s) written to keep_na_delete.\"\n",
    "  \n",
    "  )\n",
    "\n",
    "sendmailR::sendmail(from = email_from,\n",
    "                    to = email_to,\n",
    "                    subject = email_subj3,\n",
    "                    msg = email_body3,\n",
    "                    headers= list(\"Reply-To\" = email_from),\n",
    "                    control = list(smtpServer = \"\"))"
   ],
   "id": "77cc6d57-7368-4876-a940-479133c8eedb"
  }
 ],
 "nbformat": 4,
 "nbformat_minor": 5,
 "metadata": {}
}
