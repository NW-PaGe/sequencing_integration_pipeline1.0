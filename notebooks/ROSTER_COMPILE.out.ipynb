{
 "cells": [
  {
   "cell_type": "markdown",
   "metadata": {},
   "source": [
    "# Roster Compile\n",
    "\n",
    "Emily Nebergall and Sarah Menz  \n",
    "March 6, 2024"
   ],
   "id": "414b1508-023d-4c39-93db-6d1cb6127893"
  },
  {
   "cell_type": "code",
   "execution_count": null,
   "metadata": {},
   "outputs": [],
   "source": [
    "knitr::opts_chunk$set(\n",
    "  eval = F,\n",
    "  echo = T,\n",
    "  message = F,\n",
    "  warning = F\n",
    ")"
   ],
   "id": "70080691-96b5-4f8d-ac1b-1ccd9039b06f"
  },
  {
   "cell_type": "markdown",
   "metadata": {},
   "source": [
    "The Roster Compile script processes records from PHL, Template Submitters, fuzzy matching, for review, keep na, and ad hoc files to create the sequencing roster. This script imports the files that are ready to be rostered, performs QA checks, and outputs the files that are ready to be added to WDRS.\n",
    "\n",
    "# Setup\n",
    "\n",
    "## Libraries"
   ],
   "id": "2f59fd79-6e9b-43b1-be53-044a800c74a1"
  },
  {
   "cell_type": "code",
   "execution_count": null,
   "metadata": {},
   "outputs": [],
   "source": [
    "library(lubridate)\n",
    "library(tidyverse)\n",
    "library(readxl)\n",
    "library(openxlsx)\n",
    "library(fs)\n",
    "library(here)\n",
    "library(sendmailR)\n",
    "library(DBI)\n",
    "library(odbc)"
   ],
   "id": "0c9b19e3-fc22-4e14-874b-d0813c7cf392"
  },
  {
   "cell_type": "markdown",
   "metadata": {},
   "source": [
    "## Read in RDS objects\n",
    "\n",
    "All of these are used within the roster_filters function for quality checks.  \n",
    "The lab_variables.rds file is created in Roster_scripts/write_lab_variables.R. It includes valid sequence reasons and lab names and is used across multiple scripts. Please refer to the tables on the GitHub wiki for updates.  \n",
    "The lineages.csv file contains all lineages, both active and withdrawn.  \n",
    "The valid years vector starts with 2020 and continues to the present year."
   ],
   "id": "73b11baf-c4b3-4424-9ab4-9e92fcf9dc84"
  },
  {
   "cell_type": "code",
   "execution_count": null,
   "metadata": {},
   "outputs": [],
   "source": [
    "# read in r_creds.RDS\n",
    "r_creds <-readRDS(file.path(Sys.getenv(\"USERPROFILE\"), \"Projects/Sequencing/Data_Objects\", \"r_creds.RDS\")) \n",
    "\n",
    "# Bring in object with sequence reasons and sequence laboratories\n",
    "lab_vars <- readRDS(\"Data_Objects/lab_variables.rds\")\n",
    "\n",
    "# Bring in file with all lineages (active or withdrawn)\n",
    "lineages <- read_csv(\"Data_Objects/Lineages/Lineages.csv\",\n",
    "                   col_names = TRUE,\n",
    "                   col_types = cols(.default = \"c\"),\n",
    "                   na = c(\"\", \"NA\", \"N/A\")) \n",
    "\n",
    "#Bring in GISAID_\n",
    "wa_gisaid <- read_rds(\"GISAID Data/wa_gisaid.rds\")\n",
    "\n",
    "# Read in quality_filters\n",
    "source(file.path(Sys.getenv(\"USERPROFILE\"), \"Projects/Sequencing/Roster_scripts/quality_filters.R\"))\n",
    "\n",
    "# Append Unassigned lineage to lineages list\n",
    "df <- data.frame (lineage_extracted = \"Unassigned\",\n",
    "description = NA,\n",
    "status = NA\n",
    ")\n",
    "lineages <- bind_rows(lineages,df)\n",
    "\n",
    "# Create vector of years\n",
    "years <- year(seq(ymd(\"2020-01-01\"), today(), by = \"years\"))\n",
    "valid_years <- paste(years, collapse = \"|\")"
   ],
   "id": "68239692-fe94-4f8b-9abc-500d55feb6b8"
  },
  {
   "cell_type": "markdown",
   "metadata": {},
   "source": [
    "## Connect to WDRS\n",
    "\n",
    "**IMPORTANT** the variables used to connect to WDRS are held within conn_list.RDS. All .RDS objects in this repository except for VOC.RDS are excluded from Git commits by declaring \\*.RDS in the .gitignore file because they are often used to hold our “secrets” such as credential and server connections. We do not include server connections in code uploaded to GitHub. **WHY?** We have been asked by HTS to ensure our use of GitHub does not raise any security red flags. This server is an internal server containing confidential/restricted PHI. We want to hide this server information to reduce our possible “attack surface”. This connection may seem benign but it tells someone information they can use to “hack” into WDRS. SQL Server Native Client is now deprecated software and version 11 was the last release. Unsupported software is at higher risk of having security breaches. Additionally, someone would know the server name. **So: DO NOT alter the code used to open the connection to WDRS in any way that creates a security risk. Continue to treat this connection as a secret and store its variables in a .RDS object (or other external object that is excluded from Git commits) rather than calling them directly here.**"
   ],
   "id": "497072ab-2ba3-44a6-8f4d-3febba85c87e"
  },
  {
   "cell_type": "code",
   "execution_count": null,
   "metadata": {},
   "outputs": [],
   "source": [
    "# connect\n",
    "connection <- DBI::dbConnect(odbc::odbc(), \n",
    "                             Driver = r_creds$conn_list[1], \n",
    "                             Server = r_creds$conn_list[2], \n",
    "                             Database = r_creds$conn_list[3], \n",
    "                             Trusted_connection = r_creds$conn_list[4], \n",
    "                             ApplicationIntent = r_creds$conn_list[5])"
   ],
   "id": "d3bb020c-4fdf-4f0f-b57c-ee052d4f8501"
  },
  {
   "cell_type": "markdown",
   "metadata": {},
   "source": [
    "## WDRS Query\n",
    "\n",
    "This queries the WDRS sequencing table for all SEQUENCE_ACCESSION and SEQUENCE_CLINICAL_ACCESSION values."
   ],
   "id": "87107128-cae7-46b5-b1ad-8ac3f91869c6"
  },
  {
   "cell_type": "code",
   "execution_count": null,
   "metadata": {},
   "outputs": [],
   "source": [
    "wdrs_seq <- dbGetQuery(connection, \"\n",
    "                    SELECT DISTINCT SEQUENCE_ACCESSION_NUMBER,\n",
    "                    SEQUENCE_CLINICAL_ACCESSION_NUMBER\n",
    "                    FROM [WDRS].[dbo].[DD_GCD_COVID19_SEQUENCING]\n",
    "                    WHERE CASE_STATUS != 6\n",
    "                    \")"
   ],
   "id": "15c81a56-582b-4f05-9e0d-fce87955e563"
  },
  {
   "cell_type": "markdown",
   "metadata": {},
   "source": [
    "## WDRS Sequence Accession values\n",
    "\n",
    "The list of SA values is used in the roster_filters function to check if a record’s SA already exists in WDRS."
   ],
   "id": "68a46afa-2463-4a95-94c9-49faae020e42"
  },
  {
   "cell_type": "code",
   "execution_count": null,
   "metadata": {},
   "outputs": [],
   "source": [
    "# Omit any NA's\n",
    "wdrs_sa_seq_clean <- wdrs_seq[['SEQUENCE_ACCESSION_NUMBER']][!is.na(wdrs_seq[['SEQUENCE_ACCESSION_NUMBER']])] %>%\n",
    "  # For fields that have \"hCoV-19/\" appended to the beginning of the SEQUENCE_ACCESSION remove it by str_replace() with \"\"\n",
    "  str_replace(\"hCoV-19/\", \"\") %>%\n",
    "  # Trim off the white space resulting from str_split, this also gets rid of \" \" values\n",
    "  str_trim(\"both\")\n",
    "\n",
    "# Remove any values that are \"\"\n",
    "wdrs_sa_seq_values <- wdrs_sa_seq_clean[wdrs_sa_seq_clean != \"\"]"
   ],
   "id": "c2de1371-5e19-4487-ba8f-e77e62e66712"
  },
  {
   "cell_type": "markdown",
   "metadata": {},
   "source": [
    "## WDRS Sequence Clinical Accession values\n",
    "\n",
    "The SEQUENCE_CLINICAL_ACCESSION values are split at each “,” to create a single vector of values. The list of SCA values is used in the roster_filters function to check if a record’s SCA already exists in WDRS."
   ],
   "id": "7e85c442-9c16-4799-ac69-bafcba20e0af"
  },
  {
   "cell_type": "code",
   "execution_count": null,
   "metadata": {},
   "outputs": [],
   "source": [
    "# Omit any NA's\n",
    "wdrs_sca_seq_clean <- wdrs_seq[['SEQUENCE_CLINICAL_ACCESSION_NUMBER']][!is.na(wdrs_seq[['SEQUENCE_CLINICAL_ACCESSION_NUMBER']])] %>%\n",
    "# For fields that have \"hCoV-19/\" appended to the beginning of the SEQUENCE_ACCESSION remove it by str_replace() with \"\"\n",
    "  str_replace(\"hCoV-19/\", \"\") %>%\n",
    "# Trim off the white space resulting from str_split, this also gets rid of \" \" values  \n",
    "  str_trim(\"both\")\n",
    "\n",
    "# Remove any values that are \"\"\n",
    "wdrs_sca_seq_values <- wdrs_sca_seq_clean[wdrs_sca_seq_clean != \"\"]"
   ],
   "id": "8a3697be-a28c-4df0-9820-f5469abe274d"
  },
  {
   "cell_type": "markdown",
   "metadata": {},
   "source": [
    "# Compile records\n",
    "\n",
    "## Read in files from write_roster_here\n",
    "\n",
    "Files that are ready to be compiled for the roster are saved to the write_roster_here folder. A new file with today’s date is created in the Archive folder. All files are read in and moved to the Archive folder for future reference. The index column is added when files are read in. The column includes the name of the file and can be used in troubleshooting. This column should not be included in the final file."
   ],
   "id": "2231c0be-1b71-4e97-802b-eb82fcd97551"
  },
  {
   "cell_type": "code",
   "execution_count": null,
   "metadata": {},
   "outputs": [],
   "source": [
    "# List all rosters that were outputted to the write_roster_here folder\n",
    "compile_files <- dir_ls(\"write_roster_here\",type = \"file\", pattern = \"*.csv\")\n",
    "\n",
    "# Initialize list\n",
    "Compile_Rosters <- list()\n",
    "if(length(compile_files) > 0){\n",
    "\n",
    "  # Create folder in Archive\n",
    "  dir_create(paste0(file.path(\"write_roster_here/Archive\", today())))\n",
    "  # Files saved in vector format\n",
    "  roster_files <- dput(as.vector(compile_files))\n",
    "  # Set names\n",
    "  names(roster_files) <- roster_files\n",
    "  \n",
    "  # Read in files, all columns as character\n",
    "  Compile_Rosters <- roster_files %>%\n",
    "    map_df(~read_csv(., col_types = cols(\n",
    "      CASE_ID = col_character(),\n",
    "      SEQUENCE_SGTF = col_character(),\n",
    "      SEQUENCE_SPECIMEN = col_character(),\n",
    "      SEQUENCE_REASON = col_character(),\n",
    "      SEQUENCE_DATE = col_character(),\n",
    "      SEQUENCE_LAB = col_character(),\n",
    "      SEQUENCE_STATUS = col_character(),\n",
    "      SEQUENCE_REPOSITORY = col_character(),\n",
    "      SEQUENCE_ACCESSION = col_character(),\n",
    "      SEQUENCE_VARIANT_OPEN_TEXT = col_character(),\n",
    "      SEQUENCE_CLINICAL_ACCESSION = col_character(),\n",
    "      SEQUENCE_SPECIMEN_COLLECTION_DATE = col_character(),\n",
    "      SEQUENCE_NOTES = col_character(),\n",
    "      SEQUENCE_REVIEWED = col_character(),\n",
    "      Case.Note = col_character()\n",
    "    ), \n",
    "     # Read as missing\n",
    "     na = c(\"\", \"NA\", \"N/A\", \"None\", \"NONE\")\n",
    "    ), \n",
    "    # Add index column to store file path\n",
    "    .id = \"index\")\n",
    "\n",
    "  # Move files to archive\n",
    "  file_move(roster_files, paste0(\"write_roster_here/Archive/\", today()))\n",
    "}\n",
    "\n",
    "\n",
    "# There are two versions of the roster columns in various places, remove EPI_ISL and Roster Prepared date from any file in write_roster_here\n",
    "Compile_Rosters <- Compile_Rosters %>% select(-matches(\"SEQUENCE_EPI_ISL|SEQUENCE_ROSTER_PREPARE_DATE\"))"
   ],
   "id": "f55b5cd3-8c11-4ac2-b812-ff7c7838bd9f"
  },
  {
   "cell_type": "markdown",
   "metadata": {},
   "source": [
    "## WDRS column order\n",
    "\n",
    "The key_cols vector is the correct order of column names for WDRS upload. **DO NOT CHANGE THESE!** WDRS uploads the file based on this order, not on the column name. If the order is changed, the file will be uploaded to WDRS as is, and the WDRS data won’t be in the correct columns. The key_cols_index vector includes the roster columns and the index column and is used to remove extra columns from the input files."
   ],
   "id": "f004fdf7-5d26-43e4-bf83-d53f983b6939"
  },
  {
   "cell_type": "code",
   "execution_count": null,
   "metadata": {},
   "outputs": [],
   "source": [
    "# Columns that are included in roster (this is the correct order for WDRS upload)\n",
    "key_cols = c(\n",
    "          \"CASE_ID\",\n",
    "          \"SEQUENCE_SGTF\",\n",
    "          \"SEQUENCE_SPECIMEN\",\n",
    "          \"SEQUENCE_DATE\",\n",
    "          \"SEQUENCE_REASON\",\n",
    "          \"SEQUENCE_LAB\",\n",
    "          \"SEQUENCE_STATUS\",\n",
    "          \"SEQUENCE_REPOSITORY\",\n",
    "          \"SEQUENCE_ACCESSION\",\n",
    "          \"SEQUENCE_EPI_ISL\",\n",
    "          \"SEQUENCE_VARIANT_OPEN_TEXT\",\n",
    "          \"SEQUENCE_CLINICAL_ACCESSION\", \n",
    "          \"SEQUENCE_SPECIMEN_COLLECTION_DATE\",\n",
    "          \"SEQUENCE_ROSTER_PREPARE_DATE\",\n",
    "          \"SEQUENCE_NOTES\",\n",
    "          \"SEQUENCE_REVIEWED\",\n",
    "          \"Case.Note\")\n",
    "\n",
    "# Columns that are included in roster, plus index\n",
    "key_cols_index = c(\n",
    "          \"CASE_ID\",\n",
    "          \"SEQUENCE_SGTF\",\n",
    "          \"SEQUENCE_SPECIMEN\",\n",
    "          \"SEQUENCE_DATE\",\n",
    "          \"SEQUENCE_REASON\",\n",
    "          \"SEQUENCE_LAB\",\n",
    "          \"SEQUENCE_STATUS\",\n",
    "          \"SEQUENCE_REPOSITORY\",\n",
    "          \"SEQUENCE_ACCESSION\",\n",
    "          \"SEQUENCE_EPI_ISL\",\n",
    "          \"SEQUENCE_VARIANT_OPEN_TEXT\",\n",
    "          \"SEQUENCE_CLINICAL_ACCESSION\", \n",
    "          \"SEQUENCE_SPECIMEN_COLLECTION_DATE\",\n",
    "          \"SEQUENCE_ROSTER_PREPARE_DATE\",\n",
    "          \"SEQUENCE_NOTES\",\n",
    "          \"SEQUENCE_REVIEWED\",\n",
    "          \"Case.Note\", \n",
    "          \"index\")"
   ],
   "id": "25443ddd-4cd8-421b-ac65-defac6a1ac49"
  },
  {
   "cell_type": "markdown",
   "metadata": {},
   "source": [
    "# Compile rosters, addition of SEQUENCE_EPI_ISL and SEQUENCE_ROSTER_PREPARE_DATE columns, cleansing"
   ],
   "id": "20d4a78e-cbd5-4262-956a-1815893ed818"
  },
  {
   "cell_type": "code",
   "execution_count": null,
   "metadata": {},
   "outputs": [],
   "source": [
    "# Bind rosters\n",
    "Compiled_Roster <- bind_rows(Compile_Rosters) \n",
    "\n",
    "wa_gisaid <- as_tibble(wa_gisaid)\n",
    "\n",
    "# Join the \"Accession ID\" from wa_gisaid to populate the new vars: \"SEQUENCE_EPI_ISL\". Create the new var SEQUENCE_ROSTER_PREPARE_DATE with today's date in mm/dd/yyyy format. Trim SEQUENCE_SPECIMEN_COLLECTION_DATE. Remove duplicates and index columns\n",
    "Compiled_Roster_Add_Cols <- Compiled_Roster %>%\n",
    "  # join \"virus_name_clean\", \"Accession ID\", \"gisaid_epi_isl\" columns from wa_gisaid\n",
    "  left_join(wa_gisaid[c(\"virus_name_clean\", \"Accession ID\", \"gisaid_epi_isl\")], by = c(\"SEQUENCE_ACCESSION\" = \"virus_name_clean\")) %>%\n",
    "  mutate(\"SEQUENCE_EPI_ISL\" = case_when(\n",
    "    # 'Accession ID' is populated and 'gisaid_epi_isl' is missing\n",
    "    (!is.na(`Accession ID`) & is.na(gisaid_epi_isl)) ~ `Accession ID`,\n",
    "    # 'Accession ID' is missing and 'gisaid_epi_isl' is populated\n",
    "    (is.na(`Accession ID`) & !is.na(gisaid_epi_isl)) ~ gisaid_epi_isl,\n",
    "    # 'Accession ID' is populated and 'gisaid_epi_isl' is populated and 'Accession ID' != 'gisaid_epi_isl'\n",
    "    ((!is.na(`Accession ID`) & !is.na(gisaid_epi_isl)) & (`Accession ID` != gisaid_epi_isl)) ~ gisaid_epi_isl,\n",
    "    TRUE ~ gisaid_epi_isl\n",
    "  )) %>%\n",
    "  # mutate(SEQUENCE_EPI_ISL = \"\") %>%\n",
    "  mutate(SEQUENCE_ROSTER_PREPARE_DATE = format(today(), \"%m/%d/%Y\")) %>%\n",
    "  mutate(SEQUENCE_SPECIMEN_COLLECTION_DATE = str_trim(SEQUENCE_SPECIMEN_COLLECTION_DATE, side = \"both\")) %>%\n",
    "  # Exclude index when comparing rows in case there are 2 copies of a file\n",
    "  distinct(across(all_of(key_cols)), .keep_all = TRUE) %>% \n",
    "  # Remove extra columns\n",
    "  select(all_of(key_cols_index))"
   ],
   "id": "7b20d9ae-ea8a-4ee1-a543-f7552df5e19b"
  },
  {
   "cell_type": "markdown",
   "metadata": {},
   "source": [
    "## Remove true duplicates and empty rows\n",
    "\n",
    "Exact duplicates are removed at this point. If an upstream process is run twice and outputs multiple files, this will remove identical records. Empty rows are sometimes introduced after manually opening a csv file. These rows are removed, so they aren’t flagged in the QA checks."
   ],
   "id": "665b935a-fdbb-4a07-896d-9f0014ed6568"
  },
  {
   "cell_type": "code",
   "execution_count": null,
   "metadata": {},
   "outputs": [],
   "source": [
    "# Creating copy of roster before adding filters and warning columns in case need to rerun anything in the script\n",
    "Compiled_Roster_before_filters <- Compiled_Roster_Add_Cols\n",
    "\n",
    "# Identify rows that are completely blank\n",
    "empty_rows_in_roster <- Compiled_Roster_Add_Cols %>% filter_at(vars(key_cols),  all_vars(is.na(.)))\n",
    "\n",
    "# Remove empty rows\n",
    "Compiled_Roster <- Compiled_Roster_Add_Cols %>% anti_join(empty_rows_in_roster)"
   ],
   "id": "ca052c25-8f60-4b69-8fcf-7ed5043f5338"
  },
  {
   "cell_type": "markdown",
   "metadata": {},
   "source": [
    "# Change missing SEQUENCE_REASON to the appropriate reason by lab"
   ],
   "id": "13eb02ed-e241-4c21-85a4-04a89278b9fc"
  },
  {
   "cell_type": "code",
   "execution_count": null,
   "metadata": {},
   "outputs": [],
   "source": [
    "Compiled_Roster <- Compiled_Roster %>%\n",
    "  mutate(SEQUENCE_REASON = case_when(\n",
    "    is.na(SEQUENCE_REASON) & str_detect(toupper(SEQUENCE_LAB),\"CDC\") ~ \"SENTINEL SURVEILLANCE\",\n",
    "    is.na(SEQUENCE_REASON) & str_detect(toupper(SEQUENCE_LAB),\"LAURING LAB\") ~ \"OTHER\",\n",
    "    is.na(SEQUENCE_REASON) & str_detect(toupper(SEQUENCE_LAB),\"GRUBAUGH\") ~ \"OTHER\",\n",
    "    is.na(SEQUENCE_REASON) & str_detect(toupper(SEQUENCE_LAB),\"PHL\") ~ NA_character_,\n",
    "    is.na(SEQUENCE_REASON) & str_detect(toupper(SEQUENCE_LAB),\"KAISER\") ~ \"OTHER\",\n",
    "    is.na(SEQUENCE_REASON) & !str_detect(toupper(SEQUENCE_LAB),\"CDC|LAURING LAB|GRUBAUGH|PHL|KAISER\") ~ \"UNKNOWN\",\n",
    "    TRUE ~ SEQUENCE_REASON\n",
    "  ))"
   ],
   "id": "bec8ba48-f7c2-4e8c-9ea1-b831e90b4a25"
  },
  {
   "cell_type": "markdown",
   "metadata": {},
   "source": [
    "## First Quality Check\n",
    "\n",
    "The roster_filters function is used across multiple scripts. In the roster compile script, roster is set to TRUE. This sets the QA_SCA_NA and the QA_COLLECT_DATE check to NA. If a file name includes “reviewed_roster_compiled”, it sets QA_SCA_WDRS_DUPE and QA_SCA_INT_DUPE to NA (This is a temporary fix to allow reviewed records to be rostered and should be removed after updates to checking SCA, SA, and CASE_ID in WDRS). It includes a few additional checks that are included in QA_OTHER. The QA_OTHER checks include:\n",
    "\n",
    "-   Is SEQUENCE_SGTF blank?\n",
    "-   Is SEQUENCE_SPECIMEN hardcoded to ‘YES’?\n",
    "-   Is SEQUENCE_DATE blank?\n",
    "-   Is SEQUENCE_LAB populated and a valid value within lab_variables.rds?\n",
    "-   Is SEQUENCE_REPOSITORY set to ‘GISAID’?\n",
    "-   Is SEQUENCE_ACCESSION in a valid format? (includes “USA/”, doesn’t include “hCoV”, ends in a valid year)\n",
    "-   Is SEQUENCE_REVIEWED blank?\n",
    "-   Is SEQUENCE_SPECIMEN_COLLECTION_DATE formatted correctly? (MM/DD/YYYY or M/D/YYYY)\n",
    "-   Is Case.Note “External data question package updated by COVID19…”\n",
    "-   Does CASE_ID only include numbers?\n",
    "-   Is SEQUENCE_VARIANT_OPEN_TEXT filled in when SEQUENCE_STATUS is ‘COMPLETE’?\n",
    "-   Is SEQUENCE_VARIANT_OPEN_TEXT blank when SEQUENCE_STATUS is ‘LOW QUALITY’ or ‘FAILED’?\n",
    "\n",
    "The script will print a warning if a lab isn’t in the current list of lab names. The GitHub wiki has the current list of WDRS lab names. Update the lab_variables.RDS in write_lab_variables.R script as needed."
   ],
   "id": "6bbc7907-ce26-4313-9198-0dc065c227da"
  },
  {
   "cell_type": "code",
   "execution_count": null,
   "metadata": {},
   "outputs": [],
   "source": [
    "# Using the quality filters to send files to some of the for review folders\n",
    "\n",
    "Compiled_Roster_qa <- roster_filters(Compiled_Roster, lab_vars, wdrs_sa_seq_values, wdrs_sca_seq_values, lineages$lineage_extracted, roster = TRUE) \n",
    "\n",
    "if(any(!Compiled_Roster_qa$SEQUENCE_LAB %in% lab_vars$lab_names_wdrs)) {\n",
    "  warning(paste0(\"Please review list of sequence labs\"))\n",
    "}"
   ],
   "id": "e2e492ff-e19d-4b92-9120-4d2136cb8cb6"
  },
  {
   "cell_type": "markdown",
   "metadata": {},
   "source": [
    "## Save flagged records to For_Review folder\n",
    "\n",
    "If a record has any flag, it is removed from the Compiled_Roster data. Flagged records that have a SEQUENCE_STATUS as “COMPLETE” or are from “PHL” are sent to the For_Review folder. Flagged records that are not from PHL and have a SEQUENCE_STATUS of “FAILED” or “LOW QUALITY” are dropped."
   ],
   "id": "59d33ee2-2cc3-40bd-86e4-6bd8e2c6c9d6"
  },
  {
   "cell_type": "code",
   "execution_count": null,
   "metadata": {},
   "outputs": [],
   "source": [
    "# Create a dataframe that is referenced in email message\n",
    "review_dataframe <- data.frame(File = as.character(),\n",
    "                               nrows_in_file = as.integer())\n",
    "\n",
    "\n",
    "# Records with QA flags\n",
    "roster_for_review <- filter(Compiled_Roster_qa, sum > 0)\n",
    "\n",
    "# Drop FAILED and LOW QUALITY records from non-PHL submitters\n",
    "# Remove extra columns\n",
    "roster_for_review_output <- roster_for_review %>%\n",
    "    filter(SEQUENCE_LAB == \"PHL\" | !SEQUENCE_STATUS %in% c(\"FAILED\", \"LOW QUALITY\")) %>% \n",
    "    select(-index, -sum)\n",
    "\n",
    "\n",
    "# If there are records with QA flags, they need to be saved to the For_Review folder or dropped.\n",
    "\n",
    "if(nrow(roster_for_review_output) > 0) {\n",
    "  \n",
    "  # Save the number of records that need to be reviewed for use in email\n",
    "  review_dataframe <- review_dataframe %>% add_row(File = \"Compiled_Roster_For_Review\", \n",
    "                                                   nrows_in_file = nrow(roster_for_review_output))\n",
    "  \n",
    "\n",
    "  # Save csv file\n",
    "  roster_for_review_output %>%\n",
    "    write_csv(paste0(\"For_Review/to_process/\", \n",
    "                     \"Compiled_Roster_For_Review_\", \n",
    "                     format(now(), \"%Y-%m-%d-%H%M%S\"), \".csv\"), na = \"\")\n",
    "}\n",
    "\n",
    "\n",
    "\n",
    "# Remove all records from the roster that were sent to the for_review folder or dropped\n",
    "Compiled_Roster <- Compiled_Roster %>% \n",
    "  anti_join(roster_for_review, by=key_cols) %>%\n",
    "  distinct()"
   ],
   "id": "6d96b110-abb4-4fe8-be51-3135b3acf01d"
  },
  {
   "cell_type": "markdown",
   "metadata": {},
   "source": [
    "# Final Roster\n",
    "\n",
    "## Final Quality Checks\n",
    "\n",
    "Rerun the roster_filters. At this point, the Compiled_Roster dataframe should not have QA flags. If rows are removed at this point, check if they need to be sent to the For_Review folder. This code chunk can simplified/modified because the roster_filters function has already been used. It provides a nice quality_table that can be helpful as a visual check."
   ],
   "id": "8bd94ced-b9b5-44c0-8fad-42c1b302bd76"
  },
  {
   "cell_type": "code",
   "execution_count": null,
   "metadata": {},
   "outputs": [],
   "source": [
    "# Last check on records to be rostered\n",
    "Compiled_Roster <- roster_filters(Compiled_Roster, lab_vars, wdrs_sa_seq_values, wdrs_sca_seq_values, lineages$lineage_extracted, roster = TRUE)\n",
    "\n",
    "# Remove any records that have a flag and remove extra columns\n",
    "Compiled_Roster_Clean <- Compiled_Roster %>% \n",
    "                              filter(sum==0) %>% \n",
    "                                select(all_of(key_cols))\n",
    "  \n",
    "if(nrow(Compiled_Roster_Clean) != nrow(Compiled_Roster)){\n",
    "  stop(paste0(\"Please review the number of rows in the Compiled_Roster_Clean.\"))\n",
    "}"
   ],
   "id": "825db061-ee8e-4291-bc07-1c54790ae17b"
  },
  {
   "cell_type": "markdown",
   "metadata": {},
   "source": [
    "## Check number of columns\n",
    "\n",
    "This will stop the script if the number of columns is incorrect. If the WDRS template changes, this number needs to be updated to reflect the change."
   ],
   "id": "af909e4d-85ee-4b80-a8b1-226cd368811b"
  },
  {
   "cell_type": "code",
   "execution_count": null,
   "metadata": {},
   "outputs": [],
   "source": [
    "# Check number of columns\n",
    "if (ncol(Compiled_Roster_Clean) != 17){\n",
    "  stop(paste0(\"Please review number of columns. There should be 17 columns for roster.\"))\n",
    "}"
   ],
   "id": "677a8e25-be79-439b-9cf2-778b6b11018a"
  },
  {
   "cell_type": "markdown",
   "metadata": {},
   "source": [
    "# Prep file for WDRS\n",
    "\n",
    "## Split files\n",
    "\n",
    "The maximum number of rows for WDRS is 500. This splits the records into lists of 500 records"
   ],
   "id": "a42f6bd1-f711-4bcb-80fb-1336ae0da781"
  },
  {
   "cell_type": "code",
   "execution_count": null,
   "metadata": {},
   "outputs": [],
   "source": [
    "# Number of rows in roster\n",
    "number_row_clean_roster <- nrow(Compiled_Roster_Clean)\n",
    "\n",
    "# Determine the number of files that will be needed\n",
    "factor_for_roster_split <- rep(seq_len(ceiling(number_row_clean_roster / 500)),each = 500,length.out = number_row_clean_roster)\n",
    "\n",
    "# Divide the data so there are a max of 500 records in a group\n",
    "Compiled_Roster_Split <- split(Compiled_Roster_Clean, f = factor_for_roster_split)\n",
    "\n",
    "# Print dimensions of the groups \n",
    "lapply(Compiled_Roster_Split, dim)"
   ],
   "id": "b46417cf-de00-49e9-bf06-60fd6b7f7d71"
  },
  {
   "cell_type": "markdown",
   "metadata": {},
   "source": [
    "## Save files for script runner’s review\n",
    "\n",
    "This writes the csv files to today’s Archive folder. This is the last point to review the file(s) before sending it to Data Support. Once the records have been saved to the Data Support folder, the file(s) may be uploaded to WDRS quickly, and we shouldn’t make changes to them."
   ],
   "id": "56b29b4d-24c0-4e8f-80ff-d1d427e73133"
  },
  {
   "cell_type": "code",
   "execution_count": null,
   "metadata": {},
   "outputs": [],
   "source": [
    "# Number of files to be saved\n",
    "m <- length(Compiled_Roster_Split)\n",
    "\n",
    "# Write compiled roster to new date-stamped folder in Archive \n",
    "for (i in 1:m) {\n",
    "  write_csv(\n",
    "    Compiled_Roster_Split[[i]],\n",
    "    paste0(\"write_roster_here/Archive/\", \n",
    "      today(),\n",
    "      \"//Compiled_Roster_\",\n",
    "      i,\n",
    "      \"_\",\n",
    "      str_replace(str_replace_all(format(now()), \":\", \"-\"), \" \", \"_\"),\n",
    "      \".csv\"\n",
    "    ),\n",
    "    na = \"\"\n",
    "  )\n",
    "}\n",
    "\n",
    "\n",
    "\n",
    "# Stop script and review files in the Archive folder. I've been checking that the numbers of rows and columns are correct and look for really high levels of missingness in a column or anything that seems weird. Once the files have been saved to the Data Support folder, we shouldn't make changes to the files, so this is the last chance for reviewing. \n",
    "stop(paste(\"Review files before saving to DS_path\"))"
   ],
   "id": "df68d177-1255-48fa-a889-507f8b9af872"
  },
  {
   "cell_type": "markdown",
   "metadata": {},
   "source": [
    "## Save files for Data Support\n",
    "\n",
    "Don’t run this until you have reviewed the files in the Archive folder! This saves the file(s) for Data Support."
   ],
   "id": "65a9fc7a-4c61-404d-9aef-6dcda1ac6034"
  },
  {
   "cell_type": "code",
   "execution_count": null,
   "metadata": {},
   "outputs": [],
   "source": [
    "# Read in the file path for Data Support folder\n",
    "DS_path <- \"WDRS/Rosters/RosterImports_to_Prod/Sequencing/\"\n",
    "\n",
    "\n",
    "# Save the file(s)\n",
    "for (i in 1:m) {\n",
    "  write_csv(\n",
    "    Compiled_Roster_Split[[i]],\n",
    "    paste0(DS_path,\n",
    "      \"Compiled_Roster_\",\n",
    "      i,\n",
    "      \"_\",\n",
    "      str_replace(str_replace_all(format(now()), \":\", \"-\"), \" \", \"_\"),\n",
    "      \".csv\"\n",
    "    ),\n",
    "    na = \"\"\n",
    "  )\n",
    "}\n",
    "\n",
    "# Confirm that the files have been saved for WDRS upload\n",
    "stop(paste(\"Manually check that files have been saved to DS_path\"))"
   ],
   "id": "03a561fb-5eee-4635-88ff-f8ceb78ab3d7"
  },
  {
   "cell_type": "markdown",
   "metadata": {},
   "source": [
    "## Send email\n",
    "\n",
    "An email is sent out with the number of roster files produced and the number of records sent to the For_Review folder."
   ],
   "id": "4e7d0220-9e94-4ea6-8488-18c403d66290"
  },
  {
   "cell_type": "code",
   "execution_count": null,
   "metadata": {},
   "outputs": [],
   "source": [
    "# Email listed as sender\n",
    "email_from <- \"\"\n",
    "\n",
    "# Email recipients\n",
    "email_to <-\n",
    "  c(\"\"\n",
    "  )\n",
    "\n",
    "# Subject line\n",
    "email_subj <-\n",
    "  \"Sequencing - Genome Sequencing Roster Complete Automated Email\"\n",
    "\n",
    "\n",
    "# Number of roster files produced\n",
    "if (m == 1) {\n",
    "  email_body <-\n",
    "    paste(\n",
    "      \"The COVID-19 genome sequencing roster for\",\n",
    "      format(today(), \"%m/%d/%Y\"),\n",
    "      \"has been generated. \"\n",
    "    )\n",
    "} else {\n",
    "  email_body <- paste(\n",
    "    m,\n",
    "    \" COVID-19 genome sequencing rosters for\",\n",
    "    format(today(), \"%m/%d/%Y\"),\n",
    "    \"have been generated.\"\n",
    "  )\n",
    "}\n",
    "\n",
    "# Number of records that need to be reviewed\n",
    "if(nrow(review_dataframe) > 0) {\n",
    "  email_body_2 <- paste(\n",
    "    \"\n",
    "    \", (review_dataframe$nrows_in_file), \"record(s) could not be added to the COVID-19 genome sequencing roster. \",  \" Please review the file located in the For Review/to_process folder.\"\n",
    "  )\n",
    "} else {\n",
    "  email_body_2 <- \"\"\n",
    "}\n",
    "\n",
    "# Send email\n",
    "sendmailR::sendmail(from = email_from,\n",
    "                    to = email_to,\n",
    "                    subject = email_subj,\n",
    "                    msg = c(email_body, email_body_2),\n",
    "                    headers= list(\"Reply-To\" = email_from),\n",
    "                    control = list(smtpServer = \"\"))"
   ],
   "id": "8b56db9e-bb90-49ee-8b6e-14acf633e1ac"
  }
 ],
 "nbformat": 4,
 "nbformat_minor": 5,
 "metadata": {}
}
